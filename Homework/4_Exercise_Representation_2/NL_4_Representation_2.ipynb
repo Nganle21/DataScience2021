{
  "nbformat": 4,
  "nbformat_minor": 0,
  "metadata": {
    "colab": {
      "name": "NL_4_Representation_2.ipynb",
      "provenance": [],
      "collapsed_sections": [],
      "mount_file_id": "18aAaW3dX7J55xzs22oRLv2cRi17pC7xd",
      "authorship_tag": "ABX9TyNK32yMu9UyQH/DoSSbAy/P",
      "include_colab_link": true
    },
    "kernelspec": {
      "name": "python3",
      "display_name": "Python 3"
    },
    "language_info": {
      "name": "python"
    },
    "accelerator": "GPU"
  },
  "cells": [
    {
      "cell_type": "markdown",
      "metadata": {
        "id": "view-in-github",
        "colab_type": "text"
      },
      "source": [
        "<a href=\"https://colab.research.google.com/github/Nganle21/DataScience2021/blob/main/Homework/4_Exercise_Representation_2/NL_4_Representation_2.ipynb\" target=\"_parent\"><img src=\"https://colab.research.google.com/assets/colab-badge.svg\" alt=\"Open In Colab\"/></a>"
      ]
    },
    {
      "cell_type": "code",
      "execution_count": null,
      "metadata": {
        "id": "c2-FHaaHIo1H"
      },
      "outputs": [],
      "source": [
        "!pip install transformers\n"
      ]
    },
    {
      "cell_type": "code",
      "source": [
        "import pickle\n",
        "import pandas as pd\n",
        "import numpy as np\n",
        "from gensim.models import Word2Vec\n",
        "from scipy.spatial.distance import cosine\n",
        "from sklearn.feature_extraction.text import TfidfVectorizer\n",
        "from gensim.models.doc2vec import Doc2Vec, TaggedDocument\n",
        "import tensorflow as tf\n",
        "import torch\n",
        "from transformers import BertTokenizer, BertModel\n",
        "from keras.preprocessing.sequence import pad_sequences\n",
        "from torch.utils.data import TensorDataset, DataLoader, RandomSampler, SequentialSampler\n"
      ],
      "metadata": {
        "id": "l1Yfx188I48x"
      },
      "execution_count": 123,
      "outputs": []
    },
    {
      "cell_type": "code",
      "source": [
        "path = '/content/drive/MyDrive/Colab Notebooks/data_lemma.pkl'\n",
        "with open(path, 'rb') as file:\n",
        "  df = pickle.load(file)\n",
        "df = pd.DataFrame(df,columns=['text'])"
      ],
      "metadata": {
        "id": "6p4qNKp6KhAh"
      },
      "execution_count": 5,
      "outputs": []
    },
    {
      "cell_type": "code",
      "source": [
        "df.head()"
      ],
      "metadata": {
        "colab": {
          "base_uri": "https://localhost:8080/",
          "height": 206
        },
        "id": "QVZmpTSnKu3c",
        "outputId": "bd420f71-f491-490b-963b-96db31156a7f"
      },
      "execution_count": 6,
      "outputs": [
        {
          "output_type": "execute_result",
          "data": {
            "text/plain": [
              "                                                text\n",
              "0  car wonder enlighten car see day door sport ca...\n",
              "1  clock poll final final clock report accelerati...\n",
              "2  question folk mac plus finally give ghost week...\n",
              "3  weitek nntp post host amber ssd csd harris com...\n",
              "4  shuttle launch question article cowcb world st..."
            ],
            "text/html": [
              "\n",
              "  <div id=\"df-db6286a0-46b3-4afd-958f-1a76b4aca906\">\n",
              "    <div class=\"colab-df-container\">\n",
              "      <div>\n",
              "<style scoped>\n",
              "    .dataframe tbody tr th:only-of-type {\n",
              "        vertical-align: middle;\n",
              "    }\n",
              "\n",
              "    .dataframe tbody tr th {\n",
              "        vertical-align: top;\n",
              "    }\n",
              "\n",
              "    .dataframe thead th {\n",
              "        text-align: right;\n",
              "    }\n",
              "</style>\n",
              "<table border=\"1\" class=\"dataframe\">\n",
              "  <thead>\n",
              "    <tr style=\"text-align: right;\">\n",
              "      <th></th>\n",
              "      <th>text</th>\n",
              "    </tr>\n",
              "  </thead>\n",
              "  <tbody>\n",
              "    <tr>\n",
              "      <th>0</th>\n",
              "      <td>car wonder enlighten car see day door sport ca...</td>\n",
              "    </tr>\n",
              "    <tr>\n",
              "      <th>1</th>\n",
              "      <td>clock poll final final clock report accelerati...</td>\n",
              "    </tr>\n",
              "    <tr>\n",
              "      <th>2</th>\n",
              "      <td>question folk mac plus finally give ghost week...</td>\n",
              "    </tr>\n",
              "    <tr>\n",
              "      <th>3</th>\n",
              "      <td>weitek nntp post host amber ssd csd harris com...</td>\n",
              "    </tr>\n",
              "    <tr>\n",
              "      <th>4</th>\n",
              "      <td>shuttle launch question article cowcb world st...</td>\n",
              "    </tr>\n",
              "  </tbody>\n",
              "</table>\n",
              "</div>\n",
              "      <button class=\"colab-df-convert\" onclick=\"convertToInteractive('df-db6286a0-46b3-4afd-958f-1a76b4aca906')\"\n",
              "              title=\"Convert this dataframe to an interactive table.\"\n",
              "              style=\"display:none;\">\n",
              "        \n",
              "  <svg xmlns=\"http://www.w3.org/2000/svg\" height=\"24px\"viewBox=\"0 0 24 24\"\n",
              "       width=\"24px\">\n",
              "    <path d=\"M0 0h24v24H0V0z\" fill=\"none\"/>\n",
              "    <path d=\"M18.56 5.44l.94 2.06.94-2.06 2.06-.94-2.06-.94-.94-2.06-.94 2.06-2.06.94zm-11 1L8.5 8.5l.94-2.06 2.06-.94-2.06-.94L8.5 2.5l-.94 2.06-2.06.94zm10 10l.94 2.06.94-2.06 2.06-.94-2.06-.94-.94-2.06-.94 2.06-2.06.94z\"/><path d=\"M17.41 7.96l-1.37-1.37c-.4-.4-.92-.59-1.43-.59-.52 0-1.04.2-1.43.59L10.3 9.45l-7.72 7.72c-.78.78-.78 2.05 0 2.83L4 21.41c.39.39.9.59 1.41.59.51 0 1.02-.2 1.41-.59l7.78-7.78 2.81-2.81c.8-.78.8-2.07 0-2.86zM5.41 20L4 18.59l7.72-7.72 1.47 1.35L5.41 20z\"/>\n",
              "  </svg>\n",
              "      </button>\n",
              "      \n",
              "  <style>\n",
              "    .colab-df-container {\n",
              "      display:flex;\n",
              "      flex-wrap:wrap;\n",
              "      gap: 12px;\n",
              "    }\n",
              "\n",
              "    .colab-df-convert {\n",
              "      background-color: #E8F0FE;\n",
              "      border: none;\n",
              "      border-radius: 50%;\n",
              "      cursor: pointer;\n",
              "      display: none;\n",
              "      fill: #1967D2;\n",
              "      height: 32px;\n",
              "      padding: 0 0 0 0;\n",
              "      width: 32px;\n",
              "    }\n",
              "\n",
              "    .colab-df-convert:hover {\n",
              "      background-color: #E2EBFA;\n",
              "      box-shadow: 0px 1px 2px rgba(60, 64, 67, 0.3), 0px 1px 3px 1px rgba(60, 64, 67, 0.15);\n",
              "      fill: #174EA6;\n",
              "    }\n",
              "\n",
              "    [theme=dark] .colab-df-convert {\n",
              "      background-color: #3B4455;\n",
              "      fill: #D2E3FC;\n",
              "    }\n",
              "\n",
              "    [theme=dark] .colab-df-convert:hover {\n",
              "      background-color: #434B5C;\n",
              "      box-shadow: 0px 1px 3px 1px rgba(0, 0, 0, 0.15);\n",
              "      filter: drop-shadow(0px 1px 2px rgba(0, 0, 0, 0.3));\n",
              "      fill: #FFFFFF;\n",
              "    }\n",
              "  </style>\n",
              "\n",
              "      <script>\n",
              "        const buttonEl =\n",
              "          document.querySelector('#df-db6286a0-46b3-4afd-958f-1a76b4aca906 button.colab-df-convert');\n",
              "        buttonEl.style.display =\n",
              "          google.colab.kernel.accessAllowed ? 'block' : 'none';\n",
              "\n",
              "        async function convertToInteractive(key) {\n",
              "          const element = document.querySelector('#df-db6286a0-46b3-4afd-958f-1a76b4aca906');\n",
              "          const dataTable =\n",
              "            await google.colab.kernel.invokeFunction('convertToInteractive',\n",
              "                                                     [key], {});\n",
              "          if (!dataTable) return;\n",
              "\n",
              "          const docLinkHtml = 'Like what you see? Visit the ' +\n",
              "            '<a target=\"_blank\" href=https://colab.research.google.com/notebooks/data_table.ipynb>data table notebook</a>'\n",
              "            + ' to learn more about interactive tables.';\n",
              "          element.innerHTML = '';\n",
              "          dataTable['output_type'] = 'display_data';\n",
              "          await google.colab.output.renderOutput(dataTable, element);\n",
              "          const docLink = document.createElement('div');\n",
              "          docLink.innerHTML = docLinkHtml;\n",
              "          element.appendChild(docLink);\n",
              "        }\n",
              "      </script>\n",
              "    </div>\n",
              "  </div>\n",
              "  "
            ]
          },
          "metadata": {},
          "execution_count": 6
        }
      ]
    },
    {
      "cell_type": "code",
      "source": [
        "corpus_gen = [text.split() for text in df['text']]"
      ],
      "metadata": {
        "id": "EmZeR9KRLotO"
      },
      "execution_count": 7,
      "outputs": []
    },
    {
      "cell_type": "markdown",
      "source": [
        "**Part 1**"
      ],
      "metadata": {
        "id": "oOo4Zu4HVv9l"
      }
    },
    {
      "cell_type": "code",
      "source": [
        "#Initiate Word2Vec model (ignore all words w total freq lower than 566)\n",
        "model = Word2Vec(corpus_gen, size=100, min_count=566)"
      ],
      "metadata": {
        "id": "iO8MJu9jVxfU"
      },
      "execution_count": 14,
      "outputs": []
    },
    {
      "cell_type": "code",
      "source": [
        "#save model\n",
        "model.save(\"/content/drive/MyDrive/Colab Notebooks/word2vec.model\")"
      ],
      "metadata": {
        "id": "XAXBWXTXV4dI"
      },
      "execution_count": 17,
      "outputs": []
    },
    {
      "cell_type": "code",
      "source": [
        "#print sorted features\n",
        "a = model.wv.vocab.keys()\n",
        "a"
      ],
      "metadata": {
        "colab": {
          "base_uri": "https://localhost:8080/"
        },
        "id": "xh2JWqYlXYjT",
        "outputId": "680cf078-ed7c-4e28-f531-891af6281821"
      },
      "execution_count": 23,
      "outputs": [
        {
          "output_type": "execute_result",
          "data": {
            "text/plain": [
              "dict_keys(['car', 'wonder', 'see', 'day', 'look', 'early', 'call', 'small', 'body', 'know', 'model', 'year', 'history', 'info', 'mail', 'thank', 'bring', 'report', 'nntp', 'post', 'host', 'washington', 'edu', 'number', 'experience', 'send', 'message', 'speed', 'rate', 'add', 'card', 'disk', 'request', 'network', 'base', 'answer', 'guy', 'question', 'mac', 'give', 'start', 'life', 'way', 'new', 'machine', 'bit', 'maybe', 'anybody', 'expect', 'hear', 'suppose', 'access', 'price', 'line', 'like', 'go', 'display', 'probably', 'get', 'feel', 'well', 'great', 'good', 'opinion', 'people', 'use', 'take', 'size', 'money', 'hit', 'real', 'play', 'figure', 'actually', 'advance', 'email', 'news', 'time', 'truth', 'com', 'uucp', 'write', 'article', 'chip', 'far', 'low', 'level', 'stuff', 'pretty', 'nice', 'require', 'address', 'phone', 'information', 'thing', 'person', 'sense', 'world', 'clear', 'memory', 'error', 'yes', 'quote', 'software', 'check', 'right', 'value', 'set', 'code', 'tell', 'second', 'idea', 'apr', 'john', 'power', 'weapon', 'make', 'cost', 'need', 'control', 'government', 'individual', 'result', 'death', 'non', 'state', 'come', 'believe', 'hard', 'support', 'agree', 'hand', 'hope', 'course', 'term', 'define', 'say', 'mean', 'follow', 'kill', 'read', 'present', 'argument', 'understand', 'point', 'allow', 'later', 'consider', 'speak', 'company', 'today', 'think', 'sure', 'instead', 'try', 'file', 'scsi', 'april', 'device', 'long', 'problem', 'love', 'statement', 'list', 'standard', 'version', 'show', 'note', 'exist', 'mode', 'fast', 'datum', 'correct', 'fact', 'ibm', 'available', 'ftp', 'apple', 'drive', 'true', 'reference', 'win', 'help', 'change', 'appreciate', 'design', 'board', 'hardware', 'work', 'technology', 'lose', 'wrong', 'mention', 'product', 'buy', 'run', 'sell', 'bike', 'want', 'org', 'david', 'hold', 'end', 'different', 'explain', 'god', 'jewish', 'jews', 'case', 'decide', 'lead', 'man', 'christian', 'mind', 'create', 'image', 'live', 'christ', 'example', 'press', 'kind', 'little', 'jesus', 'bad', 'bible', 'guess', 'faith', 'child', 'assume', 'simply', 'pub', 'type', 'old', 'learn', 'religion', 'space', 'nasa', 'gov', 'mark', 'city', 'receive', 'likely', 'let', 'study', 'team', 'site', 'key', 'bus', 'provide', 'force', 'source', 'human', 'place', 'return', 'mike', 'build', 'research', 'system', 'major', 'single', 'ground', 'center', 'sale', 'offer', 'black', 'player', 'graphic', 'high', 'sound', 'include', 'head', 'ask', 'contact', 'reply', 'atheist', 'form', 'group', 'happen', 'war', 'short', 'cause', 'die', 'certainly', 'program', 'save', 'general', 'big', 'format', 'word', 'sort', 'application', 'job', 'able', 'deal', 'reason', 'driver', 'pay', 'close', 'house', 'security', 'steve', 'university', 'remember', 'similar', 'situation', 'turn', 'couple', 'friend', 'claim', 'stop', 'month', 'light', 'law', 'hell', 'away', 'ago', 'continue', 'cover', 'book', 'interested', 'important', 'date', 'view', 'possible', 'difference', 'output', 'simple', 'entry', 'mit', 'sun', 'window', 'matter', 'contain', 'order', 'season', 'package', 'data', 'free', 'copy', 'appear', 'fax', 'comment', 'service', 'dos', 'monitor', 'box', 'leave', 'involve', 'user', 'care', 'purpose', 'isn', 'game', 'current', 'attack', 'accept', 'earth', 'paul', 'lot', 'wouldn', 'local', 'face', 'stand', 'michael', 'better', 'subject', 'israeli', 'israel', 'easy', 'act', 'member', 'week', 'begin', 'effect', 'clipper', 'encryption', 'goal', 'drug', 'public', 'large', 'gun', 'clinton', 'rule', 'have', 'american', 'talk', 'action', 'carry', 'function', 'police', 'open', 'issue', 'white', 'home', 'certain', 'net', 'max', 'original', 'christians', 'armenians', 'armenian', 'turkish', 'woman', 'church', 'position', 'pass', 'protect', 'country', 'windows', 'faq', 'area', 'release', 'plan', 'science', 'national', 'test', 'event', 'server', 'break', 'apply', 'evidence', 'text', 'crime', 'president', 'private', 'discussion', 'screen', 'period', 'video', 'school', 'color', 'suggest', 'internet', 'netcom', 'hockey'])"
            ]
          },
          "metadata": {},
          "execution_count": 23
        }
      ]
    },
    {
      "cell_type": "code",
      "source": [
        "print(len(a))\n",
        "print(len(corpus_gen))\n",
        "#Word2Vec have filtered more token compared to Exercise 3"
      ],
      "metadata": {
        "colab": {
          "base_uri": "https://localhost:8080/"
        },
        "id": "Gu6tNB4nXfzk",
        "outputId": "393d5e86-742a-4603-a68e-95c63bd5f32c"
      },
      "execution_count": 24,
      "outputs": [
        {
          "output_type": "stream",
          "name": "stdout",
          "text": [
            "435\n",
            "11314\n"
          ]
        }
      ]
    },
    {
      "cell_type": "code",
      "source": [
        "model.wv['car']\n",
        "#numpy vector of the word \"car\" with the predefined size above (100)"
      ],
      "metadata": {
        "colab": {
          "base_uri": "https://localhost:8080/"
        },
        "id": "UeoXTYstX5LX",
        "outputId": "7c578393-f93d-4c4d-b534-d82aaa2858f8"
      },
      "execution_count": 25,
      "outputs": [
        {
          "output_type": "execute_result",
          "data": {
            "text/plain": [
              "array([ 5.62588759e-02,  2.81473160e-01, -2.77809165e-02,  9.52530921e-01,\n",
              "        7.37310827e-01, -6.21092319e-01, -1.23294592e+00,  1.17196536e+00,\n",
              "       -1.18000233e+00,  1.34491098e+00,  6.08696900e-02, -8.15124333e-01,\n",
              "       -1.85230091e-01, -1.00731599e+00, -5.66371202e-01,  6.15894616e-01,\n",
              "       -8.01912367e-01,  3.46700102e-01, -1.77099109e-01, -1.24831104e+00,\n",
              "        3.22294116e-01, -4.27762002e-01,  5.26180029e-01, -1.21975195e+00,\n",
              "       -1.09937274e+00,  1.01581573e+00, -4.99670655e-01,  5.21958590e-01,\n",
              "        6.81274712e-01, -1.01785553e+00, -3.78396988e-01, -6.82267189e-01,\n",
              "       -4.50525701e-01,  2.15883803e+00,  1.03632104e+00,  5.22030771e-01,\n",
              "       -4.73756753e-02,  2.07921839e+00, -4.06512171e-02, -9.01182950e-01,\n",
              "       -7.51531720e-01,  1.42635095e+00, -1.06533039e+00,  5.39248399e-02,\n",
              "       -1.21405609e-01,  2.17289791e-01,  1.70174491e+00,  1.53048098e+00,\n",
              "        2.37964749e-01,  3.70209843e-01,  1.45023882e+00,  8.08004439e-01,\n",
              "       -2.47110873e-01, -3.30471963e-01,  7.98253179e-01, -4.40846920e-01,\n",
              "       -4.86712337e-01,  5.77319920e-01,  2.53507793e-01,  3.22375178e-01,\n",
              "        1.64975911e-01, -2.08226353e-01, -1.24031401e+00,  3.59101921e-01,\n",
              "       -8.25415015e-01,  6.31073534e-01,  8.06493402e-01,  1.00076646e-01,\n",
              "        1.69125557e-01, -1.47431332e-04,  1.32461095e+00,  4.46120918e-01,\n",
              "       -1.38451719e+00, -6.65325820e-01,  9.82673228e-01, -6.90035403e-01,\n",
              "        6.12910569e-01,  8.15170333e-02, -1.45666862e+00,  4.09083456e-01,\n",
              "       -6.71507120e-01, -1.36426318e+00,  1.33324945e+00, -3.06462824e-01,\n",
              "        1.28613913e+00,  7.32944191e-01,  6.68481529e-01, -2.17697546e-01,\n",
              "       -2.13650656e+00, -4.45007980e-02,  3.20059419e-01, -1.35533977e+00,\n",
              "       -1.07768536e+00,  5.10202944e-01,  4.22742248e-01, -4.06459391e-01,\n",
              "       -2.43537147e-02,  2.85627633e-01,  4.28291082e-01, -1.80785477e+00],\n",
              "      dtype=float32)"
            ]
          },
          "metadata": {},
          "execution_count": 25
        }
      ]
    },
    {
      "cell_type": "code",
      "source": [
        " model.wv.most_similar('car')\n",
        " #makes sense for me overall"
      ],
      "metadata": {
        "colab": {
          "base_uri": "https://localhost:8080/"
        },
        "id": "oWv0yhKNYRim",
        "outputId": "46f22f96-f24a-4b24-c804-4692e76a0481"
      },
      "execution_count": 27,
      "outputs": [
        {
          "output_type": "execute_result",
          "data": {
            "text/plain": [
              "[('buy', 0.6046044826507568),\n",
              " ('bike', 0.5933898687362671),\n",
              " ('friend', 0.5417188405990601),\n",
              " ('light', 0.5285630822181702),\n",
              " ('figure', 0.4855635166168213),\n",
              " ('price', 0.47859400510787964),\n",
              " ('get', 0.462393194437027),\n",
              " ('pay', 0.4600743353366852),\n",
              " ('nice', 0.4591468870639801),\n",
              " ('hit', 0.45573240518569946)]"
            ]
          },
          "metadata": {},
          "execution_count": 27
        }
      ]
    },
    {
      "cell_type": "code",
      "source": [
        "model.wv.most_similar(positive=['bike', 'machine'], topn=1)"
      ],
      "metadata": {
        "colab": {
          "base_uri": "https://localhost:8080/"
        },
        "id": "yARmGFgvYg1g",
        "outputId": "da5f35f0-a677-45b1-ed9e-41ee94525baf"
      },
      "execution_count": 30,
      "outputs": [
        {
          "output_type": "execute_result",
          "data": {
            "text/plain": [
              "[('fast', 0.6857116222381592)]"
            ]
          },
          "metadata": {},
          "execution_count": 30
        }
      ]
    },
    {
      "cell_type": "code",
      "source": [
        "#find the top 1 most similar words. Positive words contribute positively towards the similarity while negative words negatively.\n",
        "#This method computes cosine similarity between a simple mean of the projection weight vectors of the given words and the vectors for each word in the model.\n",
        "model.wv.most_similar(positive=['thank', 'early'], topn=1)\n",
        "model.wv.most_similar(positive=['see', 'look'], topn=1)\n",
        "model.wv.most_similar(positive=['armenians', 'turkish'], topn=5)"
      ],
      "metadata": {
        "colab": {
          "base_uri": "https://localhost:8080/"
        },
        "id": "5cDNLKCmZEg6",
        "outputId": "04528052-898c-4cf1-d476-2b735949c161"
      },
      "execution_count": 45,
      "outputs": [
        {
          "output_type": "execute_result",
          "data": {
            "text/plain": [
              "[('armenian', 0.9483288526535034),\n",
              " ('today', 0.5910444259643555),\n",
              " ('begin', 0.5887396931648254),\n",
              " ('war', 0.5881304144859314),\n",
              " ('continue', 0.5836325883865356)]"
            ]
          },
          "metadata": {},
          "execution_count": 45
        }
      ]
    },
    {
      "cell_type": "code",
      "source": [
        "corpus2 = []\n",
        "for doc in corpus_gen:\n",
        "  vec = []\n",
        "  for word in doc:\n",
        "    if word in a:\n",
        "      vec.append(model.wv[word])\n",
        "    else:\n",
        "      pass\n",
        "  if (len(vec) != 0):\n",
        "    corpus2.append(np.mean(vec,axis=0))\n",
        "WordtoVecModel = pd.DataFrame(np.concatenate([corpus2],axis=1))\n",
        "WordtoVecModel.head()"
      ],
      "metadata": {
        "colab": {
          "base_uri": "https://localhost:8080/",
          "height": 300
        },
        "id": "t6tiG0yNcinZ",
        "outputId": "21b47132-0349-4230-f670-3d01e51797bd"
      },
      "execution_count": 94,
      "outputs": [
        {
          "output_type": "execute_result",
          "data": {
            "text/plain": [
              "         0         1         2         3         4         5         6   \\\n",
              "0 -0.202834  0.076092 -0.095726  0.343218  0.158659 -0.292308 -0.419730   \n",
              "1  0.279975  0.062609 -0.518789  0.439750 -0.054115 -0.357546 -0.125915   \n",
              "2  0.069948  0.006966 -0.023823  0.466397 -0.282443 -0.033310  0.019614   \n",
              "3  0.511560 -0.202713 -0.402815  0.405272  0.006115 -0.524349 -0.066496   \n",
              "4  0.327805 -0.518278 -0.254349  0.206288 -0.185592 -0.006242 -0.054440   \n",
              "\n",
              "         7         8         9   ...        90        91        92        93  \\\n",
              "0  0.314719 -0.097812  0.280720  ... -0.092898 -0.236058 -0.391629  0.274717   \n",
              "1  0.093503  0.235722  0.310339  ... -0.146856  0.462654 -0.086947 -0.172101   \n",
              "2  0.234883 -0.141777  0.045428  ... -0.077648 -0.013572 -0.141621  0.010161   \n",
              "3  0.036924 -0.089284  0.146384  ... -0.084344  0.282969  0.068465  0.014603   \n",
              "4 -0.041821  0.043593 -0.088142  ... -0.099911  0.130097 -0.013865 -0.257857   \n",
              "\n",
              "         94        95        96        97        98        99  \n",
              "0  0.231400  0.032261  0.026370 -0.210911  0.406879 -0.668702  \n",
              "1 -0.037180 -0.313263  0.065520 -0.245761  0.413866  0.960704  \n",
              "2  0.264571  0.212483 -0.000674 -0.104642  0.576516  0.060564  \n",
              "3  0.010593 -0.209910 -0.100864 -0.132686  0.089336  0.359928  \n",
              "4 -0.071710 -0.026071 -0.106727  0.155545  0.245915  0.352365  \n",
              "\n",
              "[5 rows x 100 columns]"
            ],
            "text/html": [
              "\n",
              "  <div id=\"df-823dd9d1-a1b5-4b1b-8256-b7b89fcad9dc\">\n",
              "    <div class=\"colab-df-container\">\n",
              "      <div>\n",
              "<style scoped>\n",
              "    .dataframe tbody tr th:only-of-type {\n",
              "        vertical-align: middle;\n",
              "    }\n",
              "\n",
              "    .dataframe tbody tr th {\n",
              "        vertical-align: top;\n",
              "    }\n",
              "\n",
              "    .dataframe thead th {\n",
              "        text-align: right;\n",
              "    }\n",
              "</style>\n",
              "<table border=\"1\" class=\"dataframe\">\n",
              "  <thead>\n",
              "    <tr style=\"text-align: right;\">\n",
              "      <th></th>\n",
              "      <th>0</th>\n",
              "      <th>1</th>\n",
              "      <th>2</th>\n",
              "      <th>3</th>\n",
              "      <th>4</th>\n",
              "      <th>5</th>\n",
              "      <th>6</th>\n",
              "      <th>7</th>\n",
              "      <th>8</th>\n",
              "      <th>9</th>\n",
              "      <th>...</th>\n",
              "      <th>90</th>\n",
              "      <th>91</th>\n",
              "      <th>92</th>\n",
              "      <th>93</th>\n",
              "      <th>94</th>\n",
              "      <th>95</th>\n",
              "      <th>96</th>\n",
              "      <th>97</th>\n",
              "      <th>98</th>\n",
              "      <th>99</th>\n",
              "    </tr>\n",
              "  </thead>\n",
              "  <tbody>\n",
              "    <tr>\n",
              "      <th>0</th>\n",
              "      <td>-0.202834</td>\n",
              "      <td>0.076092</td>\n",
              "      <td>-0.095726</td>\n",
              "      <td>0.343218</td>\n",
              "      <td>0.158659</td>\n",
              "      <td>-0.292308</td>\n",
              "      <td>-0.419730</td>\n",
              "      <td>0.314719</td>\n",
              "      <td>-0.097812</td>\n",
              "      <td>0.280720</td>\n",
              "      <td>...</td>\n",
              "      <td>-0.092898</td>\n",
              "      <td>-0.236058</td>\n",
              "      <td>-0.391629</td>\n",
              "      <td>0.274717</td>\n",
              "      <td>0.231400</td>\n",
              "      <td>0.032261</td>\n",
              "      <td>0.026370</td>\n",
              "      <td>-0.210911</td>\n",
              "      <td>0.406879</td>\n",
              "      <td>-0.668702</td>\n",
              "    </tr>\n",
              "    <tr>\n",
              "      <th>1</th>\n",
              "      <td>0.279975</td>\n",
              "      <td>0.062609</td>\n",
              "      <td>-0.518789</td>\n",
              "      <td>0.439750</td>\n",
              "      <td>-0.054115</td>\n",
              "      <td>-0.357546</td>\n",
              "      <td>-0.125915</td>\n",
              "      <td>0.093503</td>\n",
              "      <td>0.235722</td>\n",
              "      <td>0.310339</td>\n",
              "      <td>...</td>\n",
              "      <td>-0.146856</td>\n",
              "      <td>0.462654</td>\n",
              "      <td>-0.086947</td>\n",
              "      <td>-0.172101</td>\n",
              "      <td>-0.037180</td>\n",
              "      <td>-0.313263</td>\n",
              "      <td>0.065520</td>\n",
              "      <td>-0.245761</td>\n",
              "      <td>0.413866</td>\n",
              "      <td>0.960704</td>\n",
              "    </tr>\n",
              "    <tr>\n",
              "      <th>2</th>\n",
              "      <td>0.069948</td>\n",
              "      <td>0.006966</td>\n",
              "      <td>-0.023823</td>\n",
              "      <td>0.466397</td>\n",
              "      <td>-0.282443</td>\n",
              "      <td>-0.033310</td>\n",
              "      <td>0.019614</td>\n",
              "      <td>0.234883</td>\n",
              "      <td>-0.141777</td>\n",
              "      <td>0.045428</td>\n",
              "      <td>...</td>\n",
              "      <td>-0.077648</td>\n",
              "      <td>-0.013572</td>\n",
              "      <td>-0.141621</td>\n",
              "      <td>0.010161</td>\n",
              "      <td>0.264571</td>\n",
              "      <td>0.212483</td>\n",
              "      <td>-0.000674</td>\n",
              "      <td>-0.104642</td>\n",
              "      <td>0.576516</td>\n",
              "      <td>0.060564</td>\n",
              "    </tr>\n",
              "    <tr>\n",
              "      <th>3</th>\n",
              "      <td>0.511560</td>\n",
              "      <td>-0.202713</td>\n",
              "      <td>-0.402815</td>\n",
              "      <td>0.405272</td>\n",
              "      <td>0.006115</td>\n",
              "      <td>-0.524349</td>\n",
              "      <td>-0.066496</td>\n",
              "      <td>0.036924</td>\n",
              "      <td>-0.089284</td>\n",
              "      <td>0.146384</td>\n",
              "      <td>...</td>\n",
              "      <td>-0.084344</td>\n",
              "      <td>0.282969</td>\n",
              "      <td>0.068465</td>\n",
              "      <td>0.014603</td>\n",
              "      <td>0.010593</td>\n",
              "      <td>-0.209910</td>\n",
              "      <td>-0.100864</td>\n",
              "      <td>-0.132686</td>\n",
              "      <td>0.089336</td>\n",
              "      <td>0.359928</td>\n",
              "    </tr>\n",
              "    <tr>\n",
              "      <th>4</th>\n",
              "      <td>0.327805</td>\n",
              "      <td>-0.518278</td>\n",
              "      <td>-0.254349</td>\n",
              "      <td>0.206288</td>\n",
              "      <td>-0.185592</td>\n",
              "      <td>-0.006242</td>\n",
              "      <td>-0.054440</td>\n",
              "      <td>-0.041821</td>\n",
              "      <td>0.043593</td>\n",
              "      <td>-0.088142</td>\n",
              "      <td>...</td>\n",
              "      <td>-0.099911</td>\n",
              "      <td>0.130097</td>\n",
              "      <td>-0.013865</td>\n",
              "      <td>-0.257857</td>\n",
              "      <td>-0.071710</td>\n",
              "      <td>-0.026071</td>\n",
              "      <td>-0.106727</td>\n",
              "      <td>0.155545</td>\n",
              "      <td>0.245915</td>\n",
              "      <td>0.352365</td>\n",
              "    </tr>\n",
              "  </tbody>\n",
              "</table>\n",
              "<p>5 rows × 100 columns</p>\n",
              "</div>\n",
              "      <button class=\"colab-df-convert\" onclick=\"convertToInteractive('df-823dd9d1-a1b5-4b1b-8256-b7b89fcad9dc')\"\n",
              "              title=\"Convert this dataframe to an interactive table.\"\n",
              "              style=\"display:none;\">\n",
              "        \n",
              "  <svg xmlns=\"http://www.w3.org/2000/svg\" height=\"24px\"viewBox=\"0 0 24 24\"\n",
              "       width=\"24px\">\n",
              "    <path d=\"M0 0h24v24H0V0z\" fill=\"none\"/>\n",
              "    <path d=\"M18.56 5.44l.94 2.06.94-2.06 2.06-.94-2.06-.94-.94-2.06-.94 2.06-2.06.94zm-11 1L8.5 8.5l.94-2.06 2.06-.94-2.06-.94L8.5 2.5l-.94 2.06-2.06.94zm10 10l.94 2.06.94-2.06 2.06-.94-2.06-.94-.94-2.06-.94 2.06-2.06.94z\"/><path d=\"M17.41 7.96l-1.37-1.37c-.4-.4-.92-.59-1.43-.59-.52 0-1.04.2-1.43.59L10.3 9.45l-7.72 7.72c-.78.78-.78 2.05 0 2.83L4 21.41c.39.39.9.59 1.41.59.51 0 1.02-.2 1.41-.59l7.78-7.78 2.81-2.81c.8-.78.8-2.07 0-2.86zM5.41 20L4 18.59l7.72-7.72 1.47 1.35L5.41 20z\"/>\n",
              "  </svg>\n",
              "      </button>\n",
              "      \n",
              "  <style>\n",
              "    .colab-df-container {\n",
              "      display:flex;\n",
              "      flex-wrap:wrap;\n",
              "      gap: 12px;\n",
              "    }\n",
              "\n",
              "    .colab-df-convert {\n",
              "      background-color: #E8F0FE;\n",
              "      border: none;\n",
              "      border-radius: 50%;\n",
              "      cursor: pointer;\n",
              "      display: none;\n",
              "      fill: #1967D2;\n",
              "      height: 32px;\n",
              "      padding: 0 0 0 0;\n",
              "      width: 32px;\n",
              "    }\n",
              "\n",
              "    .colab-df-convert:hover {\n",
              "      background-color: #E2EBFA;\n",
              "      box-shadow: 0px 1px 2px rgba(60, 64, 67, 0.3), 0px 1px 3px 1px rgba(60, 64, 67, 0.15);\n",
              "      fill: #174EA6;\n",
              "    }\n",
              "\n",
              "    [theme=dark] .colab-df-convert {\n",
              "      background-color: #3B4455;\n",
              "      fill: #D2E3FC;\n",
              "    }\n",
              "\n",
              "    [theme=dark] .colab-df-convert:hover {\n",
              "      background-color: #434B5C;\n",
              "      box-shadow: 0px 1px 3px 1px rgba(0, 0, 0, 0.15);\n",
              "      filter: drop-shadow(0px 1px 2px rgba(0, 0, 0, 0.3));\n",
              "      fill: #FFFFFF;\n",
              "    }\n",
              "  </style>\n",
              "\n",
              "      <script>\n",
              "        const buttonEl =\n",
              "          document.querySelector('#df-823dd9d1-a1b5-4b1b-8256-b7b89fcad9dc button.colab-df-convert');\n",
              "        buttonEl.style.display =\n",
              "          google.colab.kernel.accessAllowed ? 'block' : 'none';\n",
              "\n",
              "        async function convertToInteractive(key) {\n",
              "          const element = document.querySelector('#df-823dd9d1-a1b5-4b1b-8256-b7b89fcad9dc');\n",
              "          const dataTable =\n",
              "            await google.colab.kernel.invokeFunction('convertToInteractive',\n",
              "                                                     [key], {});\n",
              "          if (!dataTable) return;\n",
              "\n",
              "          const docLinkHtml = 'Like what you see? Visit the ' +\n",
              "            '<a target=\"_blank\" href=https://colab.research.google.com/notebooks/data_table.ipynb>data table notebook</a>'\n",
              "            + ' to learn more about interactive tables.';\n",
              "          element.innerHTML = '';\n",
              "          dataTable['output_type'] = 'display_data';\n",
              "          await google.colab.output.renderOutput(dataTable, element);\n",
              "          const docLink = document.createElement('div');\n",
              "          docLink.innerHTML = docLinkHtml;\n",
              "          element.appendChild(docLink);\n",
              "        }\n",
              "      </script>\n",
              "    </div>\n",
              "  </div>\n",
              "  "
            ]
          },
          "metadata": {},
          "execution_count": 94
        }
      ]
    },
    {
      "cell_type": "code",
      "source": [
        "WordtoVecModel.to_pickle('/content/drive/MyDrive/Colab Notebooks/Models/WordtoVecModel.pkl')"
      ],
      "metadata": {
        "id": "UENq-WSLy0Gm"
      },
      "execution_count": 95,
      "outputs": []
    },
    {
      "cell_type": "code",
      "source": [
        "#Find the most similar words to the embedding representing the first document f\n",
        "v1 = WordtoVecModel.iloc[0].values\n",
        "model.wv.most_similar(positive=[v1],topn=1)"
      ],
      "metadata": {
        "colab": {
          "base_uri": "https://localhost:8080/"
        },
        "id": "wqETFT800cHF",
        "outputId": "d4252d93-ea2d-4d5d-e5cc-42c61b490131"
      },
      "execution_count": 105,
      "outputs": [
        {
          "output_type": "execute_result",
          "data": {
            "text/plain": [
              "[('car', 0.863889217376709)]"
            ]
          },
          "metadata": {},
          "execution_count": 105
        }
      ]
    },
    {
      "cell_type": "code",
      "source": [
        "#Use cosine() to determine the document on the corpus most similar to it.\n",
        "cosine_lists = []\n",
        "for i in range(len(WordtoVecModel)-1):\n",
        "  cosine_list=cosine(v1, WordtoVecModel.iloc[i].values)\n",
        "  cosine_lists.append(cosine_list)\n",
        "cosine_lists.pop(0)#eliminate the own element\n"
      ],
      "metadata": {
        "colab": {
          "base_uri": "https://localhost:8080/"
        },
        "id": "bZaI8S3U3guJ",
        "outputId": "fa8c9f3c-bb7d-4985-8d7a-ffad5cb03038"
      },
      "execution_count": 146,
      "outputs": [
        {
          "output_type": "execute_result",
          "data": {
            "text/plain": [
              "0.0"
            ]
          },
          "metadata": {},
          "execution_count": 146
        }
      ]
    },
    {
      "cell_type": "code",
      "source": [
        "#find the closest document with the smallest cosine\n",
        "#since we popped out the first entry, the actual index of the most similar document is the result + 1\n",
        "print(\"The most similar document to the first document is number: \", (np.where(cosine_lists == np.amin(cosine_lists)))[0]+1)\n"
      ],
      "metadata": {
        "colab": {
          "base_uri": "https://localhost:8080/"
        },
        "id": "LLjP5dOp56Zc",
        "outputId": "3d204876-adda-441f-82a8-e0b2a4799e65"
      },
      "execution_count": 167,
      "outputs": [
        {
          "output_type": "stream",
          "name": "stdout",
          "text": [
            "The most similar document to the first document is number:  [4976]\n"
          ]
        }
      ]
    },
    {
      "cell_type": "markdown",
      "source": [
        "**Part 2**"
      ],
      "metadata": {
        "id": "0Bw1kcRtydmm"
      }
    },
    {
      "cell_type": "code",
      "source": [
        "# Tag Documents\n",
        "tagged = [TaggedDocument(token, [i]) for i, token in enumerate(corpus_gen)]\n",
        "\n",
        "#Initialize Doc2Vec Model\n",
        "model_d = Doc2Vec(tagged, vector_size=100, min_count=566)"
      ],
      "metadata": {
        "id": "h1Xq_jW0yfEe"
      },
      "execution_count": 159,
      "outputs": []
    }
  ]
}